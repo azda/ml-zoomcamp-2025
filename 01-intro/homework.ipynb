{
 "cells": [
  {
   "cell_type": "markdown",
   "id": "1bcde4f2",
   "metadata": {},
   "source": [
    "# Homework 1"
   ]
  },
  {
   "cell_type": "code",
   "execution_count": 2,
   "id": "74343ab1",
   "metadata": {},
   "outputs": [],
   "source": [
    "import numpy as np\n",
    "import pandas as pd"
   ]
  },
  {
   "cell_type": "markdown",
   "id": "85879a2f",
   "metadata": {},
   "source": [
    "## Q1. Pandas version"
   ]
  },
  {
   "cell_type": "code",
   "execution_count": 17,
   "id": "4f461e80",
   "metadata": {},
   "outputs": [
    {
     "data": {
      "text/plain": [
       "'2.3.2'"
      ]
     },
     "execution_count": 17,
     "metadata": {},
     "output_type": "execute_result"
    }
   ],
   "source": [
    "pd.__version__"
   ]
  },
  {
   "cell_type": "markdown",
   "id": "568b2d58",
   "metadata": {},
   "source": [
    "## Q2. Records count"
   ]
  },
  {
   "cell_type": "code",
   "execution_count": 3,
   "id": "becfc317",
   "metadata": {},
   "outputs": [],
   "source": [
    "df = pd.read_csv('car_fuel_efficiency.csv')"
   ]
  },
  {
   "cell_type": "code",
   "execution_count": 4,
   "id": "aac1fb01",
   "metadata": {},
   "outputs": [
    {
     "data": {
      "text/plain": [
       "9704"
      ]
     },
     "execution_count": 4,
     "metadata": {},
     "output_type": "execute_result"
    }
   ],
   "source": [
    "len(df)"
   ]
  },
  {
   "cell_type": "code",
   "execution_count": null,
   "id": "d98fc6d6",
   "metadata": {},
   "outputs": [
    {
     "data": {
      "text/html": [
       "<div>\n",
       "<style scoped>\n",
       "    .dataframe tbody tr th:only-of-type {\n",
       "        vertical-align: middle;\n",
       "    }\n",
       "\n",
       "    .dataframe tbody tr th {\n",
       "        vertical-align: top;\n",
       "    }\n",
       "\n",
       "    .dataframe thead th {\n",
       "        text-align: right;\n",
       "    }\n",
       "</style>\n",
       "<table border=\"1\" class=\"dataframe\">\n",
       "  <thead>\n",
       "    <tr style=\"text-align: right;\">\n",
       "      <th></th>\n",
       "      <th>engine_displacement</th>\n",
       "      <th>num_cylinders</th>\n",
       "      <th>horsepower</th>\n",
       "      <th>vehicle_weight</th>\n",
       "      <th>acceleration</th>\n",
       "      <th>model_year</th>\n",
       "      <th>num_doors</th>\n",
       "      <th>fuel_efficiency_mpg</th>\n",
       "    </tr>\n",
       "  </thead>\n",
       "  <tbody>\n",
       "    <tr>\n",
       "      <th>count</th>\n",
       "      <td>9704.00</td>\n",
       "      <td>9222.00</td>\n",
       "      <td>8996.00</td>\n",
       "      <td>9704.00</td>\n",
       "      <td>8774.00</td>\n",
       "      <td>9704.00</td>\n",
       "      <td>9202.00</td>\n",
       "      <td>9704.00</td>\n",
       "    </tr>\n",
       "    <tr>\n",
       "      <th>mean</th>\n",
       "      <td>199.71</td>\n",
       "      <td>3.96</td>\n",
       "      <td>149.66</td>\n",
       "      <td>3001.28</td>\n",
       "      <td>15.02</td>\n",
       "      <td>2011.48</td>\n",
       "      <td>-0.01</td>\n",
       "      <td>14.99</td>\n",
       "    </tr>\n",
       "    <tr>\n",
       "      <th>std</th>\n",
       "      <td>49.46</td>\n",
       "      <td>2.00</td>\n",
       "      <td>29.88</td>\n",
       "      <td>497.89</td>\n",
       "      <td>2.51</td>\n",
       "      <td>6.66</td>\n",
       "      <td>1.05</td>\n",
       "      <td>2.56</td>\n",
       "    </tr>\n",
       "    <tr>\n",
       "      <th>min</th>\n",
       "      <td>10.00</td>\n",
       "      <td>0.00</td>\n",
       "      <td>37.00</td>\n",
       "      <td>952.68</td>\n",
       "      <td>6.00</td>\n",
       "      <td>2000.00</td>\n",
       "      <td>-4.00</td>\n",
       "      <td>6.20</td>\n",
       "    </tr>\n",
       "    <tr>\n",
       "      <th>25%</th>\n",
       "      <td>170.00</td>\n",
       "      <td>3.00</td>\n",
       "      <td>130.00</td>\n",
       "      <td>2666.25</td>\n",
       "      <td>13.30</td>\n",
       "      <td>2006.00</td>\n",
       "      <td>-1.00</td>\n",
       "      <td>13.27</td>\n",
       "    </tr>\n",
       "    <tr>\n",
       "      <th>50%</th>\n",
       "      <td>200.00</td>\n",
       "      <td>4.00</td>\n",
       "      <td>149.00</td>\n",
       "      <td>2993.23</td>\n",
       "      <td>15.00</td>\n",
       "      <td>2012.00</td>\n",
       "      <td>0.00</td>\n",
       "      <td>15.01</td>\n",
       "    </tr>\n",
       "    <tr>\n",
       "      <th>75%</th>\n",
       "      <td>230.00</td>\n",
       "      <td>5.00</td>\n",
       "      <td>170.00</td>\n",
       "      <td>3334.96</td>\n",
       "      <td>16.70</td>\n",
       "      <td>2017.00</td>\n",
       "      <td>1.00</td>\n",
       "      <td>16.71</td>\n",
       "    </tr>\n",
       "    <tr>\n",
       "      <th>max</th>\n",
       "      <td>380.00</td>\n",
       "      <td>13.00</td>\n",
       "      <td>271.00</td>\n",
       "      <td>4739.08</td>\n",
       "      <td>24.30</td>\n",
       "      <td>2023.00</td>\n",
       "      <td>4.00</td>\n",
       "      <td>25.97</td>\n",
       "    </tr>\n",
       "  </tbody>\n",
       "</table>\n",
       "</div>"
      ],
      "text/plain": [
       "       engine_displacement  num_cylinders  horsepower  vehicle_weight  \\\n",
       "count              9704.00        9222.00     8996.00         9704.00   \n",
       "mean                199.71           3.96      149.66         3001.28   \n",
       "std                  49.46           2.00       29.88          497.89   \n",
       "min                  10.00           0.00       37.00          952.68   \n",
       "25%                 170.00           3.00      130.00         2666.25   \n",
       "50%                 200.00           4.00      149.00         2993.23   \n",
       "75%                 230.00           5.00      170.00         3334.96   \n",
       "max                 380.00          13.00      271.00         4739.08   \n",
       "\n",
       "       acceleration  model_year  num_doors  fuel_efficiency_mpg  \n",
       "count       8774.00     9704.00    9202.00              9704.00  \n",
       "mean          15.02     2011.48      -0.01                14.99  \n",
       "std            2.51        6.66       1.05                 2.56  \n",
       "min            6.00     2000.00      -4.00                 6.20  \n",
       "25%           13.30     2006.00      -1.00                13.27  \n",
       "50%           15.00     2012.00       0.00                15.01  \n",
       "75%           16.70     2017.00       1.00                16.71  \n",
       "max           24.30     2023.00       4.00                25.97  "
      ]
     },
     "execution_count": 5,
     "metadata": {},
     "output_type": "execute_result"
    }
   ],
   "source": [
    "df.describe().round(2)"
   ]
  },
  {
   "cell_type": "markdown",
   "id": "990910b3",
   "metadata": {},
   "source": [
    "## Q3. Fuel types"
   ]
  },
  {
   "cell_type": "code",
   "execution_count": 24,
   "id": "d1f091d6",
   "metadata": {},
   "outputs": [
    {
     "data": {
      "text/plain": [
       "2"
      ]
     },
     "execution_count": 24,
     "metadata": {},
     "output_type": "execute_result"
    }
   ],
   "source": [
    "df['fuel_type'].nunique()"
   ]
  },
  {
   "cell_type": "markdown",
   "id": "456f3b92",
   "metadata": {},
   "source": [
    "## Q4. Missing values"
   ]
  },
  {
   "cell_type": "code",
   "execution_count": 29,
   "id": "77bbfe6f",
   "metadata": {},
   "outputs": [
    {
     "data": {
      "text/plain": [
       "engine_displacement      0\n",
       "num_cylinders          482\n",
       "horsepower               0\n",
       "vehicle_weight           0\n",
       "acceleration           930\n",
       "model_year               0\n",
       "origin                   0\n",
       "fuel_type                0\n",
       "drivetrain               0\n",
       "num_doors              502\n",
       "fuel_efficiency_mpg      0\n",
       "dtype: int64"
      ]
     },
     "execution_count": 29,
     "metadata": {},
     "output_type": "execute_result"
    }
   ],
   "source": [
    "df.isnull().sum()"
   ]
  },
  {
   "cell_type": "markdown",
   "id": "1f1eb229",
   "metadata": {},
   "source": [
    "## Q5. Max fuel efficiency"
   ]
  },
  {
   "cell_type": "code",
   "execution_count": 30,
   "id": "ae5ac2c9",
   "metadata": {},
   "outputs": [
    {
     "data": {
      "text/plain": [
       "fuel_type\n",
       "Diesel      23.0337\n",
       "Gasoline    23.7591\n",
       "Name: fuel_efficiency_mpg, dtype: float64"
      ]
     },
     "execution_count": 30,
     "metadata": {},
     "output_type": "execute_result"
    }
   ],
   "source": [
    "df[\n",
    "    df['origin'] == 'Asia'\n",
    "].groupby('fuel_type').fuel_efficiency_mpg.max().round(4)"
   ]
  },
  {
   "cell_type": "markdown",
   "id": "eb150e69",
   "metadata": {},
   "source": [
    "## Q6. Median value of horsepower"
   ]
  },
  {
   "cell_type": "code",
   "execution_count": 34,
   "id": "c6c80252",
   "metadata": {},
   "outputs": [
    {
     "name": "stdout",
     "output_type": "stream",
     "text": [
      "Median before: 149.0\n",
      "Most frequent value: 152.0\n",
      "Median after: 152.0\n"
     ]
    }
   ],
   "source": [
    "df = pd.read_csv('car_fuel_efficiency.csv')\n",
    "\n",
    "median_before = df['horsepower'].median()\n",
    "most_frequent = df['horsepower'].mode()[0]\n",
    "df['horsepower'] = df['horsepower'].fillna(most_frequent)\n",
    "median_after = df['horsepower'].median()\n",
    "\n",
    "print(\"Median before:\", median_before)\n",
    "print(\"Most frequent value:\", most_frequent)\n",
    "print(\"Median after:\", median_after)"
   ]
  },
  {
   "cell_type": "markdown",
   "id": "c7819878",
   "metadata": {},
   "source": [
    "## Q7. Sum of weights"
   ]
  },
  {
   "cell_type": "code",
   "execution_count": 16,
   "id": "66c0bd04",
   "metadata": {},
   "outputs": [
    {
     "data": {
      "text/plain": [
       "np.float64(0.5187709081074006)"
      ]
     },
     "execution_count": 16,
     "metadata": {},
     "output_type": "execute_result"
    }
   ],
   "source": [
    "X = df[df['origin'] == 'Asia'][['vehicle_weight', 'model_year']].head(7).values\n",
    "\n",
    "XTX = X.T @ X\n",
    "XTX_inv = np.linalg.inv(XTX)\n",
    "\n",
    "y = np.array([1100, 1300, 800, 900, 1000, 1100, 1200])\n",
    "\n",
    "w = XTX_inv @ X.T @ y\n",
    "\n",
    "w.sum()"
   ]
  }
 ],
 "metadata": {
  "kernelspec": {
   "display_name": ".venv",
   "language": "python",
   "name": "python3"
  },
  "language_info": {
   "codemirror_mode": {
    "name": "ipython",
    "version": 3
   },
   "file_extension": ".py",
   "mimetype": "text/x-python",
   "name": "python",
   "nbconvert_exporter": "python",
   "pygments_lexer": "ipython3",
   "version": "3.13.7"
  }
 },
 "nbformat": 4,
 "nbformat_minor": 5
}
